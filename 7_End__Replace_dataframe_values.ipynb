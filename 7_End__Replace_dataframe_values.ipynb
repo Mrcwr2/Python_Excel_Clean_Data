{
  "nbformat": 4,
  "nbformat_minor": 0,
  "metadata": {
    "colab": {
      "name": "7-End_ Replace dataframe values.ipynb",
      "provenance": [],
      "collapsed_sections": [
        "Wt0W7UuBVSEg"
      ],
      "include_colab_link": true
    },
    "kernelspec": {
      "name": "python3",
      "display_name": "Python 3"
    }
  },
  "cells": [
    {
      "cell_type": "markdown",
      "metadata": {
        "id": "view-in-github",
        "colab_type": "text"
      },
      "source": [
        "<a href=\"https://colab.research.google.com/github/Mrcwr2/Python_Excel_Clean_Data/blob/main/7_End__Replace_dataframe_values.ipynb\" target=\"_parent\"><img src=\"https://colab.research.google.com/assets/colab-badge.svg\" alt=\"Open In Colab\"/></a>"
      ]
    },
    {
      "cell_type": "markdown",
      "metadata": {
        "id": "Beh6bUquc8zo"
      },
      "source": [
        "# Replace dataframe values\n",
        "---"
      ]
    },
    {
      "cell_type": "markdown",
      "metadata": {
        "id": "NnbN6m0bWMaq"
      },
      "source": [
        "## **Excel:**\n",
        "\n",
        "*   Ribbon: Home -> Find & Select\n",
        "\n",
        "![replace-values.png](data:image/png;base64,iVBORw0KGgoAAAANSUhEUgAAAOsAAAB2CAMAAAAeLJR6AAAAAXNSR0IArs4c6QAAAARnQU1BAACxjwv8YQUAAAF9UExURfPy8f////a1tfptbfw5Of0gIP8ICP8AAPw4OPiOjv4bGva7uv0tLPebmv8BAf+jo/tUU/XR0PPp6P/FxaOjoWVlZPw6Ova8u/8vL8PCwUVFQ46OjVBPTf0hIa6tq8/Oznt6eIWFg5rG4rvX6Do6OFBQTmdnZkZGRJmYl97d3ajP5R6LzU2i1VtbWaenptXV1fr6+sjIx5KSkVtZV4KAfkhGRG9tbGGs2TCU0FpaV7KysXBwbrq4uKaloyePzoC73na23EZFQ2ZmZeXl5VpaWJSSkdDPzozA4HJycVim19Pi6zmY0bi3tr29vX19e2yw2kWe02ZlZFlZV4iIh2ZmZHBvbpycm63U60af1Z7L51qp2oS/4iiQz9np8+bY5rl9vZ9Kp5Ium69qtqFMqdOu15g5oOzf7tq73byAwc6p0aBKp5c4n8eWy8SSx50/pZY1n7FsuMuF0L9zxdSS2KZWrJY0ntW11pc2n6ZNrrRhugEAAP7+/gEBAbWzsgAAAJCcDdUAAAB/dFJOU////////////////////////////////////////////////////////////////////////////////////////////////////////////////////////////////////////////////////////////////////////wD/4TwJAAAACXBIWXMAABJ0AAASdAHeZh94AAAOO0lEQVR4Xu1cj2/bxhk9NkCXxAjadPAWUaqoJmeYntbobEtKEE+AQUByW0RZQBrKEMAZHBRdB3QZ0s5DVsD/+9539/HXkVIkW5LpNM82eUfyzvf47r77yRNC/TZ+HccRvxlcN64bN+59+rvF8Om9G5/psNeL661Fecb49A5CXyeuG19yyi+CLzeuE9c7nOqL4s714XpZqkSWo6o6NjjBn995RV7UIfP+3b3zOYf9PS5oDMIg83Ps8+WKQJmyem+D/Yvh7j0d+kv2irHrRn6E3zqdwogvVwS3TGIVaTUNY6Q7anrsy8O8KvYI4bktgRzt6EO0Zl3vP2BHOZSubG6yrwzeV1JuBUEgpbvX4WsZKK0se4CxbLELmPUCl4/77efsKscnlNLfTc/AnUiGzQ5agY7j7W3JEqF0eWc3wcuSTRE22FGKlnRlwO4L41G7PVPYG5TSz9lThBduP1ExHMd3A1vaE0UGij0atTKyzTAcs1PDzzEL+o5Qpa9oEbSP2ofsLMVN4kptn1KM8bKZqIG3/fUO30tAdRY7DTz3gF0pusNWjkszy3Uky23BYjhqq0dtdpfiNnG9yx4bO+E3zDGB2Cpktbs2V1jjgkayM5ZUeolVU4rAdemZCFm3i6tuUz/Ed5UIokC6Yw8mwlxPoQuRx4/n8fxb0Wn/iT1lIKpWSlME4YnDHBPsFstsMQZPWsoOQqH2EVARmzEYNAMw74KWE4Kzb7K9Q3drUoi+O1a+bAgnsF6a56LYezJkbxbftY+EePwt+8owi+tTOVYFro4v7VxcjKEgbDAUot6HQ6K8j6UjJuRxqQifuyPkYlfiieRuALE9EhvvKA8Vhp6Myuz7IeVffZiGWVyDloP3zhxTbNnCFmLYta2TR3xqUE25rNwAXOlMYhJjVXNhGuK7/TplAVxvFq136FKuL0JL+oDERT7ZDAs//iyuHv4ZWvXMMIGzZxciOwZUsVYDOXJdlMwepCPlzl2ldSUFAVnTz4zw7+K7fS0yrk9Kcmu9tNZ+0H5++OjRI1PFRtv+noXtPTWDq++WMAV2qVRlYcVQYpn2B9SS8htQ7lzbJq3rSJskoy50dM+Tu1pX8hTy8FSApUb7O3jqgW4RJEB1GdRPZnD96gDpY35ZONIyg/kYoKr94scSWZiUq4k+MmCjp8SArHKXckjDFx7lyjpUju8SV63r/Fzbj/TpO13FRkEh4Zv1Wbp+vVfGFNi0mvS5GGpFVUWfDBGUwrkje5KUU/tU2UyQs3XRdKXcxxMjvqt17ZGuM1tbGRy1uZHz7WMcmtLntMZ4CIFmcA0ifs6CE8zgmiurrZImJapoI7s5opRoD/c9yGtcjJxnBv78mJ880u3EiWyaxDImcqLTOY3r5lRdLeuQiaGGPl2K3tr6dCbrarRf4uBMUDElcCL5EBdncG21+FELzrYlVyYGHx2iDErbN6vA/edJq/+vpjkxcdPkf+MS1Vlc97bLde3IXX6CkY0Biieiz5v/VgNPcgPXaXGtNoPrrhyZhy2Q8chhagxXC1hJnd5vqIVCmMFVbEWlwm7ZpbAKXLvH+/yTps6TmztqZ1O3RAmzuDalx/SyeGI3JSrB1Y+G9FMPOb9q1OTYGacXZnEVm4UunVI77h7fTVAFrroqU6i+c3YTnZdxWuJmcu1kDbeBE4SFznoVuDKOqauYYgGu4itZZ46MnYB6LBaqw7Vula8FuKJClgfZMjsOQ6u+IVSGa80eR5if6wStjVEgo7jqedqSB4UMDFSGa+OYHTHm5qrbkEI9DKXbiurRgZTBU3PHQlW4RoXyNS9XX7chCbt+C+296OFoSkOoIlxrdl9Tc306B1ejaoyZzb0khvC4+GPurAONfiGVksDu6Vyh6tzN2SQG2fKjzE99OGyl/2nViApjfkI8efLkaSr2FK55Vd+DlKs/tuCvjWsTPVZ2TkM517SszoOUawnMnZVjp2fGPmahlOtCqma5jnksKwFbwWNiPRCUo2mqIz/dsRR0e1+wazrKuC6mqsWVBgxfPNYn/DDX/hDVs3aJLnjS33JxrvOQxvSxkBKuC6qa40oElbrfxkGTZa407M/odqErjRsCupVTPjmzILzxeQy7F5aiyHVRVXNcIR8YgiuIkjPWlcZAU01ZVz05M5LzDhVeGgWuC6tqcYWu4Mqyxq0W1pU0jf80wsaofHJmJShwjRZV1dYVbO+3TV5OdXV7El2QhGtcXtX+lMmZlaDA9QLIc/3bkc7DLw8zuvapa1iiqxDDtam6Aq7OUfsQXF+2XyAz2+U15rp0OzwXls5VqcP2S/y80AV2CtdU13ViyVyJH5Rtt18oXdV+yLrqQVbnsP2AZ6k/dF2h7Ik+oYZlrtXAcrm2omgvqkd1vRqRXGvs070fS+UamhmrLOaeK74MumgGzxgUULhNDSSLK606xPVnthzRJjsE7tuzqkkMqCudeAwDR3Kso/o8pln0grlLV8Zt7jkjGoqyufpJYnOoxwEDX+hwWeRiWD+mrHpLV8aFnlA0LGhxPTAGs4DkJSGcYw8nXjHXZNWbiJBZSV93ImWADMhat+pi7CoRWVy5kd56JsT2w21Xv7GWdMNhwCsDKJx0RJTtJV411yGT6krUd7QMLnQ7wmnGSRZOSAvd1J7FlXV91hIqdEfOMzzTChVeS6yrCSf8rP5XzTVZ9UYzcueuJ0JqZU+SZYIy0MuQAotrQIuuRuIZKnsKQNUjKk28snhOSAY1WsASxHOahCvnKlRNBrxQipZJhWR1k/Ia1vWqRyXzXFWgB0tUF3mYAniuRwslhRpywAZeAMI5OTt99VxJ2jEteAOgTTggXVkejxbD4XLo57km5bWrdAA8Z5bCRiZDJOFyXbEqcHXkuCPP4UBWVI0BHLGuHWOmm6G1lgu66hMa5zpAx/X0o6pvAkJnum2tJrtirh5ZJlr1xsvglNBc9co4QkCjqS0ZtPJcs7pSANKxD2K+y/MHAZ1b8iDXeL9irkr2zKo34fMyuJC4qn02z6oPG9SChc5zZV2p06UDdOSIDLLsxuVVHaAK6yoVZr9EKOPa+Ts71gGyMXkHIXWTCcIpzxWX8yd91uZK+wGOLvEDJVx/eHP6H3ZWBzbXi6AYQ+fNu+/PXrOnMlgJ11fv3vzg/KNyZFfBtfPmDQ1KVI7sCrhqVVGuoWxaZgewaWiArGDWan4sn6tWFbrikCrbCyH0YJLM5FwJls7VqApmNO704+k/9cUuNz6okTIdy5vKKseyuXbenIGoHlpT4qfTH81V3X8gaF2pm4n2l4cTvYMe8jfd058YlX9ntBwsmStUPX2NwqrJ/nT6L3M1HU0kXdFncmhdbt1T+rsqdB5Nba3Chqc/OVsIfbIEE3ReEXPxO74sMlxbCPO1cRJaswNmkHLtvDt7+/PZaxoZVilVMTE9EIBGhnX/QTfjYLLQGQlNW40QumicLohgiH9nnBT7ZPogW8o1oBEq9OVioE1sT8vnP+RMkHB99e7fb3/55efT12SYkgxM6zbYQamp9dBqpQE8Vce5wb0SA5XSnhs8zk4groPSNGpTkHA1XZgMSsxIEk/eiiRcoeovAMg6KlWVCmG8hhepOXe17Ohc9GGa0WZniS+K/JxCgI4AXGwS3Kwp2E24imTVFz+XNSPoQUg54HhodTwFTaxIwvW/Z++IK5HNUk26hDo1Hf5Hehihjjj2F57cziHPVTWpJwaTQEv10dXxTPZ2wq1OZlyCv8sULX6OzYhe3j+USnUGJh4A/ZxGJ7UiCdcM2SxVGtakPuRkoF9gvwd3S3+FNZL70PdytUwfCvRGMVfzAaY2CSgbmTGF0H2Wck2/y8R9PNeFmeAwivMgfQTHaLjd5JujlCtaD0T27es8VbycAxTRhkkN3D0qrsOe3G+ivF5WV193umKulMZxDz3anhxkTYHIf2OmdtErHTeQXV08B13HNPWPMPHnfZlyn7UiGa5i9xRk/3f6E3tT6CLKQBdRu3Ggc3L9QghyeVhzPZexSaCBpwRZrmSgxvycLq9xmHMezsjomkU2BlL29VligdcAa75zgDqnQ5/iATldba6OPO/Qp5gEBIzD0PAEodye57mK789O37JzLeibL94SrqRLnw4HPPCUIOGqR6gi1zHPkV1CQHarLqoGb5AOV+WR56p2ixl4lcjqimTrDzDVAQrf4Asz8JQg4Sqogm+Ai3nOBNZmZCC+UF1c84Q6tr+518hzFe9fGLhaaD1MOcwj5Up9E3M78xg547DmREcLFtdKAC+88M4zXFNknkrCZI8Wqsi1DKVcF8RHrtXDR66L4SPX6uEj18VwXbjqreGm7d80H4r7N1UUs/flmguFfbkqihO939of2Hcx2PutVRZm18uLbQRpYO+jV2HoDddm7Y/4Plj7I1YZZt/L2yfsXRj6XV0Prifxfqaf8IXFsKFtW7qfacWR7FN7625pj20qXt29VdintuJQl99/+LNk+LTiOLn8vtK/rpWr9DwzdcCnhaD+eLn9wtXquUoCD3CaQU099XIBnKhbxpwujtu3lBAr56r09kqxm1ia4wWxcePmourevnnDNELWoKte8ynEvpRDtyPkuey5ASksJ+a7BdywN0iZCXVCr06hqp3jT+EQDyquQ1d97vaV8qWn3JHjjmj7U0f29eQazdV3LyP13FiDrj2UV2WKag9qQloozSfQ1rrb31ysBKvXtWfKq163LUcOii8Y8wlFV5kbH4iuprzSaYQDSQsRjcL0F99YPdZVXmnjTNGFxiToX+hqLG8/EOrDKa892YO93Ze9Aejhtyv7GXnJDjfpvHKsnivNKulKQh8J8TyT9gC0byM7V4rVc50H/cXXRl0AV84VZZWX6KwcFdC1dLJ0FfjV+T/11vjB2E0xYAAAAABJRU5ErkJggg==)"
      ]
    },
    {
      "cell_type": "markdown",
      "metadata": {
        "id": "h1VDv37UWMiN"
      },
      "source": [
        "## **Python:**\n",
        "\n",
        "\n",
        "\n",
        "*   Use .replace(what_to_replace, what_to_replace_it_with)\n",
        "\n",
        "\n",
        "    df.replace('old_value', 'new_value')\n",
        "\n",
        "<br>"
      ]
    },
    {
      "cell_type": "markdown",
      "metadata": {
        "id": "Wt0W7UuBVSEg"
      },
      "source": [
        "### Load required packages and data\n",
        "---"
      ]
    },
    {
      "cell_type": "code",
      "metadata": {
        "id": "_pL_mlt3VSOv"
      },
      "source": [
        "# Import required packages\n",
        "import numpy as np\n",
        "import pandas as pd\n",
        "import matplotlib.pyplot as plt"
      ],
      "execution_count": null,
      "outputs": []
    },
    {
      "cell_type": "code",
      "metadata": {
        "id": "tCxMImfIc7JO"
      },
      "source": [
        "# Save Github location paths to a variable\n",
        "failed_bank_path = 'https://github.com/The-Calculated-Life/python_analysis_for_excel/blob/main/data/failed_banks.xlsx?raw=true'\n",
        "bx_books_path = 'https://raw.githubusercontent.com/The-Calculated-Life/python_analysis_for_excel/main/data/bx_books.csv'\n",
        "\n",
        "# Read excel and CSV files\n",
        "bank_detail = pd.read_excel(failed_bank_path, sheet_name='detail')\n",
        "bx_books = pd.read_csv(bx_books_path)\n",
        "\n",
        "# Changes for demo\n",
        "bank_detail.iloc[[0, 2, 574, 578], :] = bank_detail.iloc[[0, 2, 574, 578], :].replace('FAILURE', 'FIALURE')\n",
        "bx_books[bx_books['book_author'] == 'J.K. Rowling'] = bx_books[bx_books['book_author'] == 'J.K. Rowling'].replace('J.K. Rowling', 'JK Rowling')"
      ],
      "execution_count": null,
      "outputs": []
    },
    {
      "cell_type": "markdown",
      "metadata": {
        "id": "22irGxOgVbdh"
      },
      "source": [
        "<br>\n",
        "\n",
        "### Example: Replace a value\n",
        "---"
      ]
    },
    {
      "cell_type": "code",
      "metadata": {
        "id": "5rV0DENHVWqv",
        "colab": {
          "base_uri": "https://localhost:8080/",
          "height": 195
        },
        "outputId": "2e38285a-6246-4fca-b530-d36785f9f14e"
      },
      "source": [
        "# Review bank_detail dataframe for errors\n",
        "bank_detail.head()"
      ],
      "execution_count": null,
      "outputs": [
        {
          "output_type": "execute_result",
          "data": {
            "text/html": [
              "<div>\n",
              "<style scoped>\n",
              "    .dataframe tbody tr th:only-of-type {\n",
              "        vertical-align: middle;\n",
              "    }\n",
              "\n",
              "    .dataframe tbody tr th {\n",
              "        vertical-align: top;\n",
              "    }\n",
              "\n",
              "    .dataframe thead th {\n",
              "        text-align: right;\n",
              "    }\n",
              "</style>\n",
              "<table border=\"1\" class=\"dataframe\">\n",
              "  <thead>\n",
              "    <tr style=\"text-align: right;\">\n",
              "      <th></th>\n",
              "      <th>CERT</th>\n",
              "      <th>FIN</th>\n",
              "      <th>CHARTER</th>\n",
              "      <th>ESTIMATED LOSS</th>\n",
              "      <th>ASSETS</th>\n",
              "      <th>DEPOSITS</th>\n",
              "      <th>RESOLUTION</th>\n",
              "    </tr>\n",
              "  </thead>\n",
              "  <tbody>\n",
              "    <tr>\n",
              "      <th>0</th>\n",
              "      <td>14361</td>\n",
              "      <td>10536.0</td>\n",
              "      <td>COMMERCIAL</td>\n",
              "      <td>NaN</td>\n",
              "      <td>152400</td>\n",
              "      <td>139526</td>\n",
              "      <td>FIALURE</td>\n",
              "    </tr>\n",
              "    <tr>\n",
              "      <th>1</th>\n",
              "      <td>18265</td>\n",
              "      <td>10535.0</td>\n",
              "      <td>COMMERCIAL</td>\n",
              "      <td>NaN</td>\n",
              "      <td>100879</td>\n",
              "      <td>95159</td>\n",
              "      <td>FAILURE</td>\n",
              "    </tr>\n",
              "    <tr>\n",
              "      <th>2</th>\n",
              "      <td>21111</td>\n",
              "      <td>10534.0</td>\n",
              "      <td>COMMERCIAL</td>\n",
              "      <td>2491.0</td>\n",
              "      <td>120574</td>\n",
              "      <td>111234</td>\n",
              "      <td>FIALURE</td>\n",
              "    </tr>\n",
              "    <tr>\n",
              "      <th>3</th>\n",
              "      <td>58112</td>\n",
              "      <td>10532.0</td>\n",
              "      <td>COMMERCIAL</td>\n",
              "      <td>4547.0</td>\n",
              "      <td>29726</td>\n",
              "      <td>26473</td>\n",
              "      <td>FAILURE</td>\n",
              "    </tr>\n",
              "    <tr>\n",
              "      <th>4</th>\n",
              "      <td>58317</td>\n",
              "      <td>10533.0</td>\n",
              "      <td>OTHER</td>\n",
              "      <td>2188.0</td>\n",
              "      <td>27119</td>\n",
              "      <td>26151</td>\n",
              "      <td>FAILURE</td>\n",
              "    </tr>\n",
              "  </tbody>\n",
              "</table>\n",
              "</div>"
            ],
            "text/plain": [
              "    CERT      FIN     CHARTER  ESTIMATED LOSS  ASSETS  DEPOSITS RESOLUTION\n",
              "0  14361  10536.0  COMMERCIAL             NaN  152400    139526    FIALURE\n",
              "1  18265  10535.0  COMMERCIAL             NaN  100879     95159    FAILURE\n",
              "2  21111  10534.0  COMMERCIAL          2491.0  120574    111234    FIALURE\n",
              "3  58112  10532.0  COMMERCIAL          4547.0   29726     26473    FAILURE\n",
              "4  58317  10533.0       OTHER          2188.0   27119     26151    FAILURE"
            ]
          },
          "metadata": {
            "tags": []
          },
          "execution_count": 3
        }
      ]
    },
    {
      "cell_type": "markdown",
      "metadata": {
        "id": "3Qk7Rb_78lhr"
      },
      "source": [
        "<br>"
      ]
    },
    {
      "cell_type": "code",
      "metadata": {
        "id": "vPE8TsIEWvgu",
        "colab": {
          "base_uri": "https://localhost:8080/",
          "height": 402
        },
        "outputId": "7a665802-8db9-4c7b-e837-af1ed49fb20e"
      },
      "source": [
        "# Fix the text issues using .replace()\n",
        "bank_detail.replace('FIALURE', 'FAILURE')"
      ],
      "execution_count": null,
      "outputs": [
        {
          "output_type": "execute_result",
          "data": {
            "text/html": [
              "<div>\n",
              "<style scoped>\n",
              "    .dataframe tbody tr th:only-of-type {\n",
              "        vertical-align: middle;\n",
              "    }\n",
              "\n",
              "    .dataframe tbody tr th {\n",
              "        vertical-align: top;\n",
              "    }\n",
              "\n",
              "    .dataframe thead th {\n",
              "        text-align: right;\n",
              "    }\n",
              "</style>\n",
              "<table border=\"1\" class=\"dataframe\">\n",
              "  <thead>\n",
              "    <tr style=\"text-align: right;\">\n",
              "      <th></th>\n",
              "      <th>CERT</th>\n",
              "      <th>FIN</th>\n",
              "      <th>CHARTER</th>\n",
              "      <th>ESTIMATED LOSS</th>\n",
              "      <th>ASSETS</th>\n",
              "      <th>DEPOSITS</th>\n",
              "      <th>RESOLUTION</th>\n",
              "    </tr>\n",
              "  </thead>\n",
              "  <tbody>\n",
              "    <tr>\n",
              "      <th>0</th>\n",
              "      <td>14361</td>\n",
              "      <td>10536.0</td>\n",
              "      <td>COMMERCIAL</td>\n",
              "      <td>NaN</td>\n",
              "      <td>152400</td>\n",
              "      <td>139526</td>\n",
              "      <td>FAILURE</td>\n",
              "    </tr>\n",
              "    <tr>\n",
              "      <th>1</th>\n",
              "      <td>18265</td>\n",
              "      <td>10535.0</td>\n",
              "      <td>COMMERCIAL</td>\n",
              "      <td>NaN</td>\n",
              "      <td>100879</td>\n",
              "      <td>95159</td>\n",
              "      <td>FAILURE</td>\n",
              "    </tr>\n",
              "    <tr>\n",
              "      <th>2</th>\n",
              "      <td>21111</td>\n",
              "      <td>10534.0</td>\n",
              "      <td>COMMERCIAL</td>\n",
              "      <td>2491.0</td>\n",
              "      <td>120574</td>\n",
              "      <td>111234</td>\n",
              "      <td>FAILURE</td>\n",
              "    </tr>\n",
              "    <tr>\n",
              "      <th>3</th>\n",
              "      <td>58112</td>\n",
              "      <td>10532.0</td>\n",
              "      <td>COMMERCIAL</td>\n",
              "      <td>4547.0</td>\n",
              "      <td>29726</td>\n",
              "      <td>26473</td>\n",
              "      <td>FAILURE</td>\n",
              "    </tr>\n",
              "    <tr>\n",
              "      <th>4</th>\n",
              "      <td>58317</td>\n",
              "      <td>10533.0</td>\n",
              "      <td>OTHER</td>\n",
              "      <td>2188.0</td>\n",
              "      <td>27119</td>\n",
              "      <td>26151</td>\n",
              "      <td>FAILURE</td>\n",
              "    </tr>\n",
              "    <tr>\n",
              "      <th>...</th>\n",
              "      <td>...</td>\n",
              "      <td>...</td>\n",
              "      <td>...</td>\n",
              "      <td>...</td>\n",
              "      <td>...</td>\n",
              "      <td>...</td>\n",
              "      <td>...</td>\n",
              "    </tr>\n",
              "    <tr>\n",
              "      <th>574</th>\n",
              "      <td>338</td>\n",
              "      <td>4644.0</td>\n",
              "      <td>COMMERCIAL</td>\n",
              "      <td>14592.0</td>\n",
              "      <td>85485</td>\n",
              "      <td>77140</td>\n",
              "      <td>FAILURE</td>\n",
              "    </tr>\n",
              "    <tr>\n",
              "      <th>575</th>\n",
              "      <td>10985</td>\n",
              "      <td>4643.0</td>\n",
              "      <td>COMMERCIAL</td>\n",
              "      <td>1363.0</td>\n",
              "      <td>25942</td>\n",
              "      <td>26667</td>\n",
              "      <td>FAILURE</td>\n",
              "    </tr>\n",
              "    <tr>\n",
              "      <th>576</th>\n",
              "      <td>25056</td>\n",
              "      <td>4642.0</td>\n",
              "      <td>COMMERCIAL</td>\n",
              "      <td>617.0</td>\n",
              "      <td>7923</td>\n",
              "      <td>7680</td>\n",
              "      <td>FAILURE</td>\n",
              "    </tr>\n",
              "    <tr>\n",
              "      <th>577</th>\n",
              "      <td>27886</td>\n",
              "      <td>6003.0</td>\n",
              "      <td>OTHER</td>\n",
              "      <td>1322.0</td>\n",
              "      <td>31479</td>\n",
              "      <td>32234</td>\n",
              "      <td>FAILURE</td>\n",
              "    </tr>\n",
              "    <tr>\n",
              "      <th>578</th>\n",
              "      <td>14228</td>\n",
              "      <td>4641.0</td>\n",
              "      <td>COMMERCIAL</td>\n",
              "      <td>11574.0</td>\n",
              "      <td>105044</td>\n",
              "      <td>68549</td>\n",
              "      <td>FAILURE</td>\n",
              "    </tr>\n",
              "  </tbody>\n",
              "</table>\n",
              "<p>579 rows × 7 columns</p>\n",
              "</div>"
            ],
            "text/plain": [
              "      CERT      FIN     CHARTER  ESTIMATED LOSS  ASSETS  DEPOSITS RESOLUTION\n",
              "0    14361  10536.0  COMMERCIAL             NaN  152400    139526    FAILURE\n",
              "1    18265  10535.0  COMMERCIAL             NaN  100879     95159    FAILURE\n",
              "2    21111  10534.0  COMMERCIAL          2491.0  120574    111234    FAILURE\n",
              "3    58112  10532.0  COMMERCIAL          4547.0   29726     26473    FAILURE\n",
              "4    58317  10533.0       OTHER          2188.0   27119     26151    FAILURE\n",
              "..     ...      ...         ...             ...     ...       ...        ...\n",
              "574    338   4644.0  COMMERCIAL         14592.0   85485     77140    FAILURE\n",
              "575  10985   4643.0  COMMERCIAL          1363.0   25942     26667    FAILURE\n",
              "576  25056   4642.0  COMMERCIAL           617.0    7923      7680    FAILURE\n",
              "577  27886   6003.0       OTHER          1322.0   31479     32234    FAILURE\n",
              "578  14228   4641.0  COMMERCIAL         11574.0  105044     68549    FAILURE\n",
              "\n",
              "[579 rows x 7 columns]"
            ]
          },
          "metadata": {
            "tags": []
          },
          "execution_count": 4
        }
      ]
    },
    {
      "cell_type": "markdown",
      "metadata": {
        "id": "wvFfwsdW8mzu"
      },
      "source": [
        "<br>"
      ]
    },
    {
      "cell_type": "code",
      "metadata": {
        "id": "bjag3oHrX-kR"
      },
      "source": [
        "# Save the text issue fix in the original dataframe \n",
        "bank_detail = bank_detail.replace('FIALURE', 'FAILURE')"
      ],
      "execution_count": null,
      "outputs": []
    },
    {
      "cell_type": "markdown",
      "metadata": {
        "id": "qaLWZK8z70wV"
      },
      "source": [
        "<br>"
      ]
    },
    {
      "cell_type": "markdown",
      "metadata": {
        "id": "IVe-oFYfZg9a"
      },
      "source": [
        "<br><br>\n",
        "##### **QUICK CHALLENGE #1: Practice replacing data**\n",
        "\n",
        "You notice that the periods are missing from author J.K. Rowling in the `book_author` column.\n",
        "\n",
        "**Task: Correct the error and replace \"JK Rowling\" with \"J.K. Rowling\" in the `book_author` column**"
      ]
    },
    {
      "cell_type": "code",
      "metadata": {
        "id": "EOHv4EmfZP2t"
      },
      "source": [
        "# Your code for quick challenge #1 here:\n",
        "bx_books = bx_books.replace('JK Rowling', 'J.K. Rowling')"
      ],
      "execution_count": null,
      "outputs": []
    },
    {
      "cell_type": "code",
      "metadata": {
        "id": "DuhTB3RRw8u5",
        "colab": {
          "base_uri": "https://localhost:8080/",
          "height": 47
        },
        "outputId": "32586459-9fbf-4220-8cef-74e0177b66e1"
      },
      "source": [
        "bx_books[bx_books['book_author'] == 'JK Rowling']"
      ],
      "execution_count": null,
      "outputs": [
        {
          "output_type": "execute_result",
          "data": {
            "text/html": [
              "<div>\n",
              "<style scoped>\n",
              "    .dataframe tbody tr th:only-of-type {\n",
              "        vertical-align: middle;\n",
              "    }\n",
              "\n",
              "    .dataframe tbody tr th {\n",
              "        vertical-align: top;\n",
              "    }\n",
              "\n",
              "    .dataframe thead th {\n",
              "        text-align: right;\n",
              "    }\n",
              "</style>\n",
              "<table border=\"1\" class=\"dataframe\">\n",
              "  <thead>\n",
              "    <tr style=\"text-align: right;\">\n",
              "      <th></th>\n",
              "      <th>isbn</th>\n",
              "      <th>book_title</th>\n",
              "      <th>book_author</th>\n",
              "      <th>year_of_publication</th>\n",
              "      <th>publisher</th>\n",
              "    </tr>\n",
              "  </thead>\n",
              "  <tbody>\n",
              "  </tbody>\n",
              "</table>\n",
              "</div>"
            ],
            "text/plain": [
              "Empty DataFrame\n",
              "Columns: [isbn, book_title, book_author, year_of_publication, publisher]\n",
              "Index: []"
            ]
          },
          "metadata": {
            "tags": []
          },
          "execution_count": 16
        }
      ]
    },
    {
      "cell_type": "code",
      "metadata": {
        "id": "_Vku4dGoxQm2"
      },
      "source": [
        "/"
      ],
      "execution_count": null,
      "outputs": []
    }
  ]
}