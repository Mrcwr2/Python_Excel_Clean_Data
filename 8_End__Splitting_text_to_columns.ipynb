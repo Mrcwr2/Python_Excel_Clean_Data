{
  "nbformat": 4,
  "nbformat_minor": 0,
  "metadata": {
    "colab": {
      "name": "8-End_ Splitting text to columns.ipynb",
      "provenance": [],
      "collapsed_sections": [],
      "include_colab_link": true
    },
    "kernelspec": {
      "name": "python3",
      "display_name": "Python 3"
    }
  },
  "cells": [
    {
      "cell_type": "markdown",
      "metadata": {
        "id": "view-in-github",
        "colab_type": "text"
      },
      "source": [
        "<a href=\"https://colab.research.google.com/github/Mrcwr2/Python_Excel_Clean_Data/blob/main/8_End__Splitting_text_to_columns.ipynb\" target=\"_parent\"><img src=\"https://colab.research.google.com/assets/colab-badge.svg\" alt=\"Open In Colab\"/></a>"
      ]
    },
    {
      "cell_type": "markdown",
      "metadata": {
        "id": "Beh6bUquc8zo"
      },
      "source": [
        "# Splitting text to columns\n",
        "---"
      ]
    },
    {
      "cell_type": "markdown",
      "metadata": {
        "id": "aAkU1PdJeyXn"
      },
      "source": [
        "## **Excel:**\n",
        "\n",
        "*   Ribbon: Data -> Data Tools -> Text to Columns\n",
        "\n",
        "![text-to-columns.png](data:image/png;base64,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)"
      ]
    },
    {
      "cell_type": "markdown",
      "metadata": {
        "id": "CJzQvxn1eycr"
      },
      "source": [
        "## **Python:**\n",
        "\n",
        "\n",
        "\n",
        "*   Use .str.split(separator=' ', expand=True) on series\n",
        "*   Separator argument has many options (' ', '_', ':', etc...)\n",
        "*   Assign new column names\n",
        "\n",
        "\n",
        "    df['column_to_split'].str.split(' ', expand=True)\n",
        "\n",
        "<br>"
      ]
    },
    {
      "cell_type": "markdown",
      "metadata": {
        "id": "oKo7FSTFbcFd"
      },
      "source": [
        "<br>\n",
        "\n",
        "### Load required packages and data\n",
        "---"
      ]
    },
    {
      "cell_type": "code",
      "metadata": {
        "id": "tCxMImfIc7JO"
      },
      "source": [
        "# Import required packages\n",
        "import numpy as np\n",
        "import pandas as pd\n",
        "import matplotlib.pyplot as plt"
      ],
      "execution_count": null,
      "outputs": []
    },
    {
      "cell_type": "code",
      "metadata": {
        "id": "nfhqe7v5bdm9"
      },
      "source": [
        "# Save Github location paths to a variable\n",
        "failed_bank_path = 'https://github.com/The-Calculated-Life/python_analysis_for_excel/blob/main/data/failed_banks.xlsx?raw=true'\n",
        "bx_users_path = 'https://raw.githubusercontent.com/The-Calculated-Life/python_analysis_for_excel/main/data/bx_users.csv'\n",
        "\n",
        "# Read excel and CSV files\n",
        "bank_dividends = pd.read_excel(failed_bank_path, sheet_name='dividends')\n",
        "bx_users = pd.read_csv(bx_users_path)"
      ],
      "execution_count": null,
      "outputs": []
    },
    {
      "cell_type": "markdown",
      "metadata": {
        "id": "4LIrfrokerkk"
      },
      "source": [
        "<br>\n",
        "\n",
        "### Example: Splitting one column into several\n",
        "---"
      ]
    },
    {
      "cell_type": "code",
      "metadata": {
        "id": "MG8U9RX1bfFC",
        "colab": {
          "base_uri": "https://localhost:8080/",
          "height": 195
        },
        "outputId": "5e6d52c4-c5c4-4e99-e36f-9582d986297b"
      },
      "source": [
        "# Look at dividends data\n",
        "bank_dividends.head()"
      ],
      "execution_count": null,
      "outputs": [
        {
          "output_type": "execute_result",
          "data": {
            "text/html": [
              "<div>\n",
              "<style scoped>\n",
              "    .dataframe tbody tr th:only-of-type {\n",
              "        vertical-align: middle;\n",
              "    }\n",
              "\n",
              "    .dataframe tbody tr th {\n",
              "        vertical-align: top;\n",
              "    }\n",
              "\n",
              "    .dataframe thead th {\n",
              "        text-align: right;\n",
              "    }\n",
              "</style>\n",
              "<table border=\"1\" class=\"dataframe\">\n",
              "  <thead>\n",
              "    <tr style=\"text-align: right;\">\n",
              "      <th></th>\n",
              "      <th>Bank Number:Name:Date Closed</th>\n",
              "      <th>Dividend Type</th>\n",
              "      <th>Priority Paid</th>\n",
              "      <th>% Paid</th>\n",
              "      <th>Total Paid</th>\n",
              "      <th>Date Paid</th>\n",
              "    </tr>\n",
              "  </thead>\n",
              "  <tbody>\n",
              "    <tr>\n",
              "      <th>0</th>\n",
              "      <td>10000:METROPOLITAN SAVINGS BANK:2/2/2007</td>\n",
              "      <td>Final</td>\n",
              "      <td>Depositor</td>\n",
              "      <td>0.04178</td>\n",
              "      <td>0.46375</td>\n",
              "      <td>2012-07-06</td>\n",
              "    </tr>\n",
              "    <tr>\n",
              "      <th>1</th>\n",
              "      <td>10000:METROPOLITAN SAVINGS BANK:2/2/2007</td>\n",
              "      <td>Traditional</td>\n",
              "      <td>Depositor</td>\n",
              "      <td>0.42197</td>\n",
              "      <td>0.42197</td>\n",
              "      <td>2007-10-23</td>\n",
              "    </tr>\n",
              "    <tr>\n",
              "      <th>2</th>\n",
              "      <td>10001:NETBANK, FSB :9/28/2007</td>\n",
              "      <td>Traditional</td>\n",
              "      <td>Depositor</td>\n",
              "      <td>0.00696</td>\n",
              "      <td>0.93316</td>\n",
              "      <td>2018-03-22</td>\n",
              "    </tr>\n",
              "    <tr>\n",
              "      <th>3</th>\n",
              "      <td>10001:NETBANK, FSB :9/28/2007</td>\n",
              "      <td>Traditional</td>\n",
              "      <td>Depositor</td>\n",
              "      <td>0.03628</td>\n",
              "      <td>0.92617</td>\n",
              "      <td>2015-06-11</td>\n",
              "    </tr>\n",
              "    <tr>\n",
              "      <th>4</th>\n",
              "      <td>10001:NETBANK, FSB :9/28/2007</td>\n",
              "      <td>Traditional</td>\n",
              "      <td>Depositor</td>\n",
              "      <td>0.00812</td>\n",
              "      <td>0.88989</td>\n",
              "      <td>2014-05-08</td>\n",
              "    </tr>\n",
              "  </tbody>\n",
              "</table>\n",
              "</div>"
            ],
            "text/plain": [
              "               Bank Number:Name:Date Closed  ...  Date Paid\n",
              "0  10000:METROPOLITAN SAVINGS BANK:2/2/2007  ... 2012-07-06\n",
              "1  10000:METROPOLITAN SAVINGS BANK:2/2/2007  ... 2007-10-23\n",
              "2             10001:NETBANK, FSB :9/28/2007  ... 2018-03-22\n",
              "3             10001:NETBANK, FSB :9/28/2007  ... 2015-06-11\n",
              "4             10001:NETBANK, FSB :9/28/2007  ... 2014-05-08\n",
              "\n",
              "[5 rows x 6 columns]"
            ]
          },
          "metadata": {
            "tags": []
          },
          "execution_count": 3
        }
      ]
    },
    {
      "cell_type": "markdown",
      "metadata": {
        "id": "1k3Ep-zw-Kiv"
      },
      "source": [
        "<br>"
      ]
    },
    {
      "cell_type": "code",
      "metadata": {
        "id": "SzzI68T_bjC9",
        "colab": {
          "base_uri": "https://localhost:8080/"
        },
        "outputId": "429a7af5-bf75-438b-dd5f-b6c7122bf907"
      },
      "source": [
        "# Select the appropriate series\n",
        "bank_dividends['Bank Number:Name:Date Closed']"
      ],
      "execution_count": null,
      "outputs": [
        {
          "output_type": "execute_result",
          "data": {
            "text/plain": [
              "0             10000:METROPOLITAN SAVINGS BANK:2/2/2007\n",
              "1             10000:METROPOLITAN SAVINGS BANK:2/2/2007\n",
              "2                        10001:NETBANK, FSB :9/28/2007\n",
              "3                        10001:NETBANK, FSB :9/28/2007\n",
              "4                        10001:NETBANK, FSB :9/28/2007\n",
              "                             ...                      \n",
              "1930    6005:UNIVERSAL FEDERAL SAVINGS BANK :6/27/2002\n",
              "1931               6006:DOLLAR SAVINGS BANK :2/14/2004\n",
              "1932               6006:DOLLAR SAVINGS BANK :2/14/2004\n",
              "1933               6006:DOLLAR SAVINGS BANK :2/14/2004\n",
              "1934               6006:DOLLAR SAVINGS BANK :2/14/2004\n",
              "Name: Bank Number:Name:Date Closed, Length: 1935, dtype: object"
            ]
          },
          "metadata": {
            "tags": []
          },
          "execution_count": 4
        }
      ]
    },
    {
      "cell_type": "markdown",
      "metadata": {
        "id": "0gBWghyd-Msd"
      },
      "source": [
        "<br>"
      ]
    },
    {
      "cell_type": "code",
      "metadata": {
        "id": "ymmQnnYNgjRO",
        "colab": {
          "base_uri": "https://localhost:8080/"
        },
        "outputId": "f5176f12-37d1-4fda-d137-4b4525f82e07"
      },
      "source": [
        "# Split the data (without expand)\n",
        "bank_dividends['Bank Number:Name:Date Closed'].str.split(':')"
      ],
      "execution_count": null,
      "outputs": [
        {
          "output_type": "execute_result",
          "data": {
            "text/plain": [
              "0            [10000, METROPOLITAN SAVINGS BANK, 2/2/2007]\n",
              "1            [10000, METROPOLITAN SAVINGS BANK, 2/2/2007]\n",
              "2                       [10001, NETBANK, FSB , 9/28/2007]\n",
              "3                       [10001, NETBANK, FSB , 9/28/2007]\n",
              "4                       [10001, NETBANK, FSB , 9/28/2007]\n",
              "                              ...                        \n",
              "1930    [6005, UNIVERSAL FEDERAL SAVINGS BANK , 6/27/2...\n",
              "1931              [6006, DOLLAR SAVINGS BANK , 2/14/2004]\n",
              "1932              [6006, DOLLAR SAVINGS BANK , 2/14/2004]\n",
              "1933              [6006, DOLLAR SAVINGS BANK , 2/14/2004]\n",
              "1934              [6006, DOLLAR SAVINGS BANK , 2/14/2004]\n",
              "Name: Bank Number:Name:Date Closed, Length: 1935, dtype: object"
            ]
          },
          "metadata": {
            "tags": []
          },
          "execution_count": 5
        }
      ]
    },
    {
      "cell_type": "markdown",
      "metadata": {
        "id": "6GeeVrWa-OuE"
      },
      "source": [
        "<br>"
      ]
    },
    {
      "cell_type": "code",
      "metadata": {
        "id": "Pxk1trFigspZ",
        "colab": {
          "base_uri": "https://localhost:8080/",
          "height": 402
        },
        "outputId": "e042e7f1-7bdc-4050-bf25-b8356463ce98"
      },
      "source": [
        "# Split the data (and expand)\n",
        "bank_dividends['Bank Number:Name:Date Closed'].str.split(':', expand=True)"
      ],
      "execution_count": null,
      "outputs": [
        {
          "output_type": "execute_result",
          "data": {
            "text/html": [
              "<div>\n",
              "<style scoped>\n",
              "    .dataframe tbody tr th:only-of-type {\n",
              "        vertical-align: middle;\n",
              "    }\n",
              "\n",
              "    .dataframe tbody tr th {\n",
              "        vertical-align: top;\n",
              "    }\n",
              "\n",
              "    .dataframe thead th {\n",
              "        text-align: right;\n",
              "    }\n",
              "</style>\n",
              "<table border=\"1\" class=\"dataframe\">\n",
              "  <thead>\n",
              "    <tr style=\"text-align: right;\">\n",
              "      <th></th>\n",
              "      <th>0</th>\n",
              "      <th>1</th>\n",
              "      <th>2</th>\n",
              "    </tr>\n",
              "  </thead>\n",
              "  <tbody>\n",
              "    <tr>\n",
              "      <th>0</th>\n",
              "      <td>10000</td>\n",
              "      <td>METROPOLITAN SAVINGS BANK</td>\n",
              "      <td>2/2/2007</td>\n",
              "    </tr>\n",
              "    <tr>\n",
              "      <th>1</th>\n",
              "      <td>10000</td>\n",
              "      <td>METROPOLITAN SAVINGS BANK</td>\n",
              "      <td>2/2/2007</td>\n",
              "    </tr>\n",
              "    <tr>\n",
              "      <th>2</th>\n",
              "      <td>10001</td>\n",
              "      <td>NETBANK, FSB</td>\n",
              "      <td>9/28/2007</td>\n",
              "    </tr>\n",
              "    <tr>\n",
              "      <th>3</th>\n",
              "      <td>10001</td>\n",
              "      <td>NETBANK, FSB</td>\n",
              "      <td>9/28/2007</td>\n",
              "    </tr>\n",
              "    <tr>\n",
              "      <th>4</th>\n",
              "      <td>10001</td>\n",
              "      <td>NETBANK, FSB</td>\n",
              "      <td>9/28/2007</td>\n",
              "    </tr>\n",
              "    <tr>\n",
              "      <th>...</th>\n",
              "      <td>...</td>\n",
              "      <td>...</td>\n",
              "      <td>...</td>\n",
              "    </tr>\n",
              "    <tr>\n",
              "      <th>1930</th>\n",
              "      <td>6005</td>\n",
              "      <td>UNIVERSAL FEDERAL SAVINGS BANK</td>\n",
              "      <td>6/27/2002</td>\n",
              "    </tr>\n",
              "    <tr>\n",
              "      <th>1931</th>\n",
              "      <td>6006</td>\n",
              "      <td>DOLLAR SAVINGS BANK</td>\n",
              "      <td>2/14/2004</td>\n",
              "    </tr>\n",
              "    <tr>\n",
              "      <th>1932</th>\n",
              "      <td>6006</td>\n",
              "      <td>DOLLAR SAVINGS BANK</td>\n",
              "      <td>2/14/2004</td>\n",
              "    </tr>\n",
              "    <tr>\n",
              "      <th>1933</th>\n",
              "      <td>6006</td>\n",
              "      <td>DOLLAR SAVINGS BANK</td>\n",
              "      <td>2/14/2004</td>\n",
              "    </tr>\n",
              "    <tr>\n",
              "      <th>1934</th>\n",
              "      <td>6006</td>\n",
              "      <td>DOLLAR SAVINGS BANK</td>\n",
              "      <td>2/14/2004</td>\n",
              "    </tr>\n",
              "  </tbody>\n",
              "</table>\n",
              "<p>1935 rows × 3 columns</p>\n",
              "</div>"
            ],
            "text/plain": [
              "          0                                1          2\n",
              "0     10000        METROPOLITAN SAVINGS BANK   2/2/2007\n",
              "1     10000        METROPOLITAN SAVINGS BANK   2/2/2007\n",
              "2     10001                    NETBANK, FSB   9/28/2007\n",
              "3     10001                    NETBANK, FSB   9/28/2007\n",
              "4     10001                    NETBANK, FSB   9/28/2007\n",
              "...     ...                              ...        ...\n",
              "1930   6005  UNIVERSAL FEDERAL SAVINGS BANK   6/27/2002\n",
              "1931   6006             DOLLAR SAVINGS BANK   2/14/2004\n",
              "1932   6006             DOLLAR SAVINGS BANK   2/14/2004\n",
              "1933   6006             DOLLAR SAVINGS BANK   2/14/2004\n",
              "1934   6006             DOLLAR SAVINGS BANK   2/14/2004\n",
              "\n",
              "[1935 rows x 3 columns]"
            ]
          },
          "metadata": {
            "tags": []
          },
          "execution_count": 6
        }
      ]
    },
    {
      "cell_type": "markdown",
      "metadata": {
        "id": "ymZjzbjV-Pk1"
      },
      "source": [
        "<br>"
      ]
    },
    {
      "cell_type": "code",
      "metadata": {
        "id": "CB0Dp7USg6A2"
      },
      "source": [
        "# Save the result to three columns 'Bank Number', 'Name', 'Date Closed'\n",
        "bank_dividends[['Bank Number', 'Name', 'Date Closed']] = bank_dividends['Bank Number:Name:Date Closed'].str.split(':', expand=True)"
      ],
      "execution_count": null,
      "outputs": []
    },
    {
      "cell_type": "markdown",
      "metadata": {
        "id": "xpZq-P1K-QFu"
      },
      "source": [
        "<br>"
      ]
    },
    {
      "cell_type": "code",
      "metadata": {
        "id": "SQxd9Br9hExb",
        "colab": {
          "base_uri": "https://localhost:8080/",
          "height": 195
        },
        "outputId": "8e42b83a-48af-4ba0-9802-5a56c48f78f4"
      },
      "source": [
        "# View the result\n",
        "bank_dividends.head()"
      ],
      "execution_count": null,
      "outputs": [
        {
          "output_type": "execute_result",
          "data": {
            "text/html": [
              "<div>\n",
              "<style scoped>\n",
              "    .dataframe tbody tr th:only-of-type {\n",
              "        vertical-align: middle;\n",
              "    }\n",
              "\n",
              "    .dataframe tbody tr th {\n",
              "        vertical-align: top;\n",
              "    }\n",
              "\n",
              "    .dataframe thead th {\n",
              "        text-align: right;\n",
              "    }\n",
              "</style>\n",
              "<table border=\"1\" class=\"dataframe\">\n",
              "  <thead>\n",
              "    <tr style=\"text-align: right;\">\n",
              "      <th></th>\n",
              "      <th>Bank Number:Name:Date Closed</th>\n",
              "      <th>Dividend Type</th>\n",
              "      <th>Priority Paid</th>\n",
              "      <th>% Paid</th>\n",
              "      <th>Total Paid</th>\n",
              "      <th>Date Paid</th>\n",
              "      <th>Bank Number</th>\n",
              "      <th>Name</th>\n",
              "      <th>Date Closed</th>\n",
              "    </tr>\n",
              "  </thead>\n",
              "  <tbody>\n",
              "    <tr>\n",
              "      <th>0</th>\n",
              "      <td>10000:METROPOLITAN SAVINGS BANK:2/2/2007</td>\n",
              "      <td>Final</td>\n",
              "      <td>Depositor</td>\n",
              "      <td>0.04178</td>\n",
              "      <td>0.46375</td>\n",
              "      <td>2012-07-06</td>\n",
              "      <td>10000</td>\n",
              "      <td>METROPOLITAN SAVINGS BANK</td>\n",
              "      <td>2/2/2007</td>\n",
              "    </tr>\n",
              "    <tr>\n",
              "      <th>1</th>\n",
              "      <td>10000:METROPOLITAN SAVINGS BANK:2/2/2007</td>\n",
              "      <td>Traditional</td>\n",
              "      <td>Depositor</td>\n",
              "      <td>0.42197</td>\n",
              "      <td>0.42197</td>\n",
              "      <td>2007-10-23</td>\n",
              "      <td>10000</td>\n",
              "      <td>METROPOLITAN SAVINGS BANK</td>\n",
              "      <td>2/2/2007</td>\n",
              "    </tr>\n",
              "    <tr>\n",
              "      <th>2</th>\n",
              "      <td>10001:NETBANK, FSB :9/28/2007</td>\n",
              "      <td>Traditional</td>\n",
              "      <td>Depositor</td>\n",
              "      <td>0.00696</td>\n",
              "      <td>0.93316</td>\n",
              "      <td>2018-03-22</td>\n",
              "      <td>10001</td>\n",
              "      <td>NETBANK, FSB</td>\n",
              "      <td>9/28/2007</td>\n",
              "    </tr>\n",
              "    <tr>\n",
              "      <th>3</th>\n",
              "      <td>10001:NETBANK, FSB :9/28/2007</td>\n",
              "      <td>Traditional</td>\n",
              "      <td>Depositor</td>\n",
              "      <td>0.03628</td>\n",
              "      <td>0.92617</td>\n",
              "      <td>2015-06-11</td>\n",
              "      <td>10001</td>\n",
              "      <td>NETBANK, FSB</td>\n",
              "      <td>9/28/2007</td>\n",
              "    </tr>\n",
              "    <tr>\n",
              "      <th>4</th>\n",
              "      <td>10001:NETBANK, FSB :9/28/2007</td>\n",
              "      <td>Traditional</td>\n",
              "      <td>Depositor</td>\n",
              "      <td>0.00812</td>\n",
              "      <td>0.88989</td>\n",
              "      <td>2014-05-08</td>\n",
              "      <td>10001</td>\n",
              "      <td>NETBANK, FSB</td>\n",
              "      <td>9/28/2007</td>\n",
              "    </tr>\n",
              "  </tbody>\n",
              "</table>\n",
              "</div>"
            ],
            "text/plain": [
              "               Bank Number:Name:Date Closed  ... Date Closed\n",
              "0  10000:METROPOLITAN SAVINGS BANK:2/2/2007  ...    2/2/2007\n",
              "1  10000:METROPOLITAN SAVINGS BANK:2/2/2007  ...    2/2/2007\n",
              "2             10001:NETBANK, FSB :9/28/2007  ...   9/28/2007\n",
              "3             10001:NETBANK, FSB :9/28/2007  ...   9/28/2007\n",
              "4             10001:NETBANK, FSB :9/28/2007  ...   9/28/2007\n",
              "\n",
              "[5 rows x 9 columns]"
            ]
          },
          "metadata": {
            "tags": []
          },
          "execution_count": 8
        }
      ]
    },
    {
      "cell_type": "markdown",
      "metadata": {
        "id": "WKaLHtWkhfnw"
      },
      "source": [
        "<br><br>\n",
        "##### **QUICK CHALLENGE #1: Text to columns**\n",
        "\n",
        "**Task: Split the `location` column of `bx_users` into new columns `[['city', 'region_state', 'country']]`.**"
      ]
    },
    {
      "cell_type": "code",
      "metadata": {
        "id": "B2tbJ3MEhl5L"
      },
      "source": [
        "# Your code for quick challenge #1 here:\n",
        "bx_users[['city', 'region_state', 'country']] = bx_users['location'].str.split(',', expand=True)"
      ],
      "execution_count": null,
      "outputs": []
    },
    {
      "cell_type": "code",
      "metadata": {
        "id": "va75EBeChnof",
        "colab": {
          "base_uri": "https://localhost:8080/",
          "height": 195
        },
        "outputId": "de14b575-2097-4a45-a346-2f16baef69a6"
      },
      "source": [
        "# View the result\n",
        "bx_users.head()"
      ],
      "execution_count": null,
      "outputs": [
        {
          "output_type": "execute_result",
          "data": {
            "text/html": [
              "<div>\n",
              "<style scoped>\n",
              "    .dataframe tbody tr th:only-of-type {\n",
              "        vertical-align: middle;\n",
              "    }\n",
              "\n",
              "    .dataframe tbody tr th {\n",
              "        vertical-align: top;\n",
              "    }\n",
              "\n",
              "    .dataframe thead th {\n",
              "        text-align: right;\n",
              "    }\n",
              "</style>\n",
              "<table border=\"1\" class=\"dataframe\">\n",
              "  <thead>\n",
              "    <tr style=\"text-align: right;\">\n",
              "      <th></th>\n",
              "      <th>user_id</th>\n",
              "      <th>location</th>\n",
              "      <th>age</th>\n",
              "      <th>city</th>\n",
              "      <th>region_state</th>\n",
              "      <th>country</th>\n",
              "    </tr>\n",
              "  </thead>\n",
              "  <tbody>\n",
              "    <tr>\n",
              "      <th>0</th>\n",
              "      <td>1</td>\n",
              "      <td>nyc, new york, usa</td>\n",
              "      <td>NaN</td>\n",
              "      <td>nyc</td>\n",
              "      <td>new york</td>\n",
              "      <td>usa</td>\n",
              "    </tr>\n",
              "    <tr>\n",
              "      <th>1</th>\n",
              "      <td>2</td>\n",
              "      <td>stockton, california, usa</td>\n",
              "      <td>18.0</td>\n",
              "      <td>stockton</td>\n",
              "      <td>california</td>\n",
              "      <td>usa</td>\n",
              "    </tr>\n",
              "    <tr>\n",
              "      <th>2</th>\n",
              "      <td>3</td>\n",
              "      <td>moscow, yukon territory, russia</td>\n",
              "      <td>NaN</td>\n",
              "      <td>moscow</td>\n",
              "      <td>yukon territory</td>\n",
              "      <td>russia</td>\n",
              "    </tr>\n",
              "    <tr>\n",
              "      <th>3</th>\n",
              "      <td>4</td>\n",
              "      <td>porto, v.n.gaia, portugal</td>\n",
              "      <td>17.0</td>\n",
              "      <td>porto</td>\n",
              "      <td>v.n.gaia</td>\n",
              "      <td>portugal</td>\n",
              "    </tr>\n",
              "    <tr>\n",
              "      <th>4</th>\n",
              "      <td>5</td>\n",
              "      <td>farnborough, hants, united kingdom</td>\n",
              "      <td>NaN</td>\n",
              "      <td>farnborough</td>\n",
              "      <td>hants</td>\n",
              "      <td>united kingdom</td>\n",
              "    </tr>\n",
              "  </tbody>\n",
              "</table>\n",
              "</div>"
            ],
            "text/plain": [
              "   user_id  ...          country\n",
              "0        1  ...              usa\n",
              "1        2  ...              usa\n",
              "2        3  ...           russia\n",
              "3        4  ...         portugal\n",
              "4        5  ...   united kingdom\n",
              "\n",
              "[5 rows x 6 columns]"
            ]
          },
          "metadata": {
            "tags": []
          },
          "execution_count": 12
        }
      ]
    },
    {
      "cell_type": "code",
      "metadata": {
        "id": "vwqIEsnF08pI"
      },
      "source": [
        "/"
      ],
      "execution_count": null,
      "outputs": []
    }
  ]
}