{
  "nbformat": 4,
  "nbformat_minor": 0,
  "metadata": {
    "colab": {
      "name": "1-Begin_ Missing Data.ipynb",
      "provenance": [],
      "collapsed_sections": [
        "xKj9JYSyS2KQ"
      ],
      "include_colab_link": true
    },
    "kernelspec": {
      "name": "python3",
      "display_name": "Python 3"
    }
  },
  "cells": [
    {
      "cell_type": "markdown",
      "metadata": {
        "id": "view-in-github",
        "colab_type": "text"
      },
      "source": [
        "<a href=\"https://colab.research.google.com/github/Mrcwr2/Python_Excel_Clean_Data/blob/main/1_Begin__Missing_Data.ipynb\" target=\"_parent\"><img src=\"https://colab.research.google.com/assets/colab-badge.svg\" alt=\"Open In Colab\"/></a>"
      ]
    },
    {
      "cell_type": "markdown",
      "metadata": {
        "id": "Beh6bUquc8zo"
      },
      "source": [
        "# Handling Missing Data\n",
        "---"
      ]
    },
    {
      "cell_type": "markdown",
      "metadata": {
        "id": "sCsuK1hWRrKX"
      },
      "source": [
        "## **Excel**\n",
        "\n",
        "* Use filtering to find blank rows or other missing values"
      ]
    },
    {
      "cell_type": "markdown",
      "metadata": {
        "id": "suBxxFYSR4iy"
      },
      "source": [
        "## **Python**\n",
        "\n",
        "*Find missing values*\n",
        "\n",
        "    df.isnull()                # df.isnull().sum() for a count of missing in each column\n",
        "\n",
        "<br>\n",
        "\n",
        "*Replace missing values:*\n",
        "\n",
        "    df.fillna()\n",
        "    df.bfill()\n",
        "    df.ffill()\n",
        "\n",
        "<br>\n",
        "\n",
        "*Remove rows with missing values:*\n",
        "\n",
        "    df.dropna()\n",
        "\n",
        "\n",
        "<br><br>"
      ]
    },
    {
      "cell_type": "markdown",
      "metadata": {
        "id": "xKj9JYSyS2KQ"
      },
      "source": [
        "### Load required packages and data\n",
        "---"
      ]
    },
    {
      "cell_type": "code",
      "metadata": {
        "id": "76zi8Q6VVT0Z"
      },
      "source": [
        "# Import required packages\n",
        "import numpy as np\n",
        "import pandas as pd\n",
        "import matplotlib.pyplot as plt"
      ],
      "execution_count": null,
      "outputs": []
    },
    {
      "cell_type": "code",
      "metadata": {
        "id": "fSNeebDTU1Zz"
      },
      "source": [
        "# Save Github location paths to a variable\n",
        "failed_bank_path = 'https://github.com/The-Calculated-Life/python_analysis_for_excel/blob/main/data/failed_banks.xlsx?raw=true'\n",
        "bx_users_path = 'https://raw.githubusercontent.com/The-Calculated-Life/python_analysis_for_excel/main/data/bx_users.csv'\n",
        "\n",
        "# Read excel and CSV files\n",
        "bank_detail = pd.read_excel(failed_bank_path, sheet_name='detail')\n",
        "bx_users = pd.read_csv(bx_users_path)"
      ],
      "execution_count": null,
      "outputs": []
    },
    {
      "cell_type": "markdown",
      "metadata": {
        "id": "SLshxDi8nzRv"
      },
      "source": [
        "<br><br>\n",
        "### Finding missing values\n",
        "---\n",
        "\n"
      ]
    },
    {
      "cell_type": "code",
      "metadata": {
        "id": "YHH0C_wxV2rN",
        "colab": {
          "base_uri": "https://localhost:8080/",
          "height": 204
        },
        "outputId": "745d5ffa-941a-4f2f-acc5-4ca85039ac81"
      },
      "source": [
        "# Look at the first 5 rows of \"bank_detail\"\n",
        "bank_detail.head()"
      ],
      "execution_count": null,
      "outputs": [
        {
          "output_type": "execute_result",
          "data": {
            "text/html": [
              "<div>\n",
              "<style scoped>\n",
              "    .dataframe tbody tr th:only-of-type {\n",
              "        vertical-align: middle;\n",
              "    }\n",
              "\n",
              "    .dataframe tbody tr th {\n",
              "        vertical-align: top;\n",
              "    }\n",
              "\n",
              "    .dataframe thead th {\n",
              "        text-align: right;\n",
              "    }\n",
              "</style>\n",
              "<table border=\"1\" class=\"dataframe\">\n",
              "  <thead>\n",
              "    <tr style=\"text-align: right;\">\n",
              "      <th></th>\n",
              "      <th>CERT</th>\n",
              "      <th>FIN</th>\n",
              "      <th>CHARTER</th>\n",
              "      <th>ESTIMATED LOSS</th>\n",
              "      <th>ASSETS</th>\n",
              "      <th>DEPOSITS</th>\n",
              "      <th>RESOLUTION</th>\n",
              "    </tr>\n",
              "  </thead>\n",
              "  <tbody>\n",
              "    <tr>\n",
              "      <th>0</th>\n",
              "      <td>14361</td>\n",
              "      <td>10536.0</td>\n",
              "      <td>COMMERCIAL</td>\n",
              "      <td>NaN</td>\n",
              "      <td>152400</td>\n",
              "      <td>139526</td>\n",
              "      <td>FAILURE</td>\n",
              "    </tr>\n",
              "    <tr>\n",
              "      <th>1</th>\n",
              "      <td>18265</td>\n",
              "      <td>10535.0</td>\n",
              "      <td>COMMERCIAL</td>\n",
              "      <td>NaN</td>\n",
              "      <td>100879</td>\n",
              "      <td>95159</td>\n",
              "      <td>FAILURE</td>\n",
              "    </tr>\n",
              "    <tr>\n",
              "      <th>2</th>\n",
              "      <td>21111</td>\n",
              "      <td>10534.0</td>\n",
              "      <td>COMMERCIAL</td>\n",
              "      <td>2491.0</td>\n",
              "      <td>120574</td>\n",
              "      <td>111234</td>\n",
              "      <td>FAILURE</td>\n",
              "    </tr>\n",
              "    <tr>\n",
              "      <th>3</th>\n",
              "      <td>58112</td>\n",
              "      <td>10532.0</td>\n",
              "      <td>COMMERCIAL</td>\n",
              "      <td>4547.0</td>\n",
              "      <td>29726</td>\n",
              "      <td>26473</td>\n",
              "      <td>FAILURE</td>\n",
              "    </tr>\n",
              "    <tr>\n",
              "      <th>4</th>\n",
              "      <td>58317</td>\n",
              "      <td>10533.0</td>\n",
              "      <td>OTHER</td>\n",
              "      <td>2188.0</td>\n",
              "      <td>27119</td>\n",
              "      <td>26151</td>\n",
              "      <td>FAILURE</td>\n",
              "    </tr>\n",
              "  </tbody>\n",
              "</table>\n",
              "</div>"
            ],
            "text/plain": [
              "    CERT      FIN     CHARTER  ESTIMATED LOSS  ASSETS  DEPOSITS RESOLUTION\n",
              "0  14361  10536.0  COMMERCIAL             NaN  152400    139526    FAILURE\n",
              "1  18265  10535.0  COMMERCIAL             NaN  100879     95159    FAILURE\n",
              "2  21111  10534.0  COMMERCIAL          2491.0  120574    111234    FAILURE\n",
              "3  58112  10532.0  COMMERCIAL          4547.0   29726     26473    FAILURE\n",
              "4  58317  10533.0       OTHER          2188.0   27119     26151    FAILURE"
            ]
          },
          "metadata": {
            "tags": []
          },
          "execution_count": 26
        }
      ]
    },
    {
      "cell_type": "markdown",
      "metadata": {
        "id": "S1ZoCnU8VEAF"
      },
      "source": [
        "<br>"
      ]
    },
    {
      "cell_type": "code",
      "metadata": {
        "id": "oaqr8ilfWeEv",
        "colab": {
          "base_uri": "https://localhost:8080/",
          "height": 419
        },
        "outputId": "6cf87309-36bb-4ca5-b60a-96c52129ae05"
      },
      "source": [
        "# Identify \"cells\" with nulls\n",
        "bank_detail.isnull()"
      ],
      "execution_count": null,
      "outputs": [
        {
          "output_type": "execute_result",
          "data": {
            "text/html": [
              "<div>\n",
              "<style scoped>\n",
              "    .dataframe tbody tr th:only-of-type {\n",
              "        vertical-align: middle;\n",
              "    }\n",
              "\n",
              "    .dataframe tbody tr th {\n",
              "        vertical-align: top;\n",
              "    }\n",
              "\n",
              "    .dataframe thead th {\n",
              "        text-align: right;\n",
              "    }\n",
              "</style>\n",
              "<table border=\"1\" class=\"dataframe\">\n",
              "  <thead>\n",
              "    <tr style=\"text-align: right;\">\n",
              "      <th></th>\n",
              "      <th>CERT</th>\n",
              "      <th>FIN</th>\n",
              "      <th>CHARTER</th>\n",
              "      <th>ESTIMATED LOSS</th>\n",
              "      <th>ASSETS</th>\n",
              "      <th>DEPOSITS</th>\n",
              "      <th>RESOLUTION</th>\n",
              "    </tr>\n",
              "  </thead>\n",
              "  <tbody>\n",
              "    <tr>\n",
              "      <th>0</th>\n",
              "      <td>False</td>\n",
              "      <td>False</td>\n",
              "      <td>False</td>\n",
              "      <td>True</td>\n",
              "      <td>False</td>\n",
              "      <td>False</td>\n",
              "      <td>False</td>\n",
              "    </tr>\n",
              "    <tr>\n",
              "      <th>1</th>\n",
              "      <td>False</td>\n",
              "      <td>False</td>\n",
              "      <td>False</td>\n",
              "      <td>True</td>\n",
              "      <td>False</td>\n",
              "      <td>False</td>\n",
              "      <td>False</td>\n",
              "    </tr>\n",
              "    <tr>\n",
              "      <th>2</th>\n",
              "      <td>False</td>\n",
              "      <td>False</td>\n",
              "      <td>False</td>\n",
              "      <td>False</td>\n",
              "      <td>False</td>\n",
              "      <td>False</td>\n",
              "      <td>False</td>\n",
              "    </tr>\n",
              "    <tr>\n",
              "      <th>3</th>\n",
              "      <td>False</td>\n",
              "      <td>False</td>\n",
              "      <td>False</td>\n",
              "      <td>False</td>\n",
              "      <td>False</td>\n",
              "      <td>False</td>\n",
              "      <td>False</td>\n",
              "    </tr>\n",
              "    <tr>\n",
              "      <th>4</th>\n",
              "      <td>False</td>\n",
              "      <td>False</td>\n",
              "      <td>False</td>\n",
              "      <td>False</td>\n",
              "      <td>False</td>\n",
              "      <td>False</td>\n",
              "      <td>False</td>\n",
              "    </tr>\n",
              "    <tr>\n",
              "      <th>...</th>\n",
              "      <td>...</td>\n",
              "      <td>...</td>\n",
              "      <td>...</td>\n",
              "      <td>...</td>\n",
              "      <td>...</td>\n",
              "      <td>...</td>\n",
              "      <td>...</td>\n",
              "    </tr>\n",
              "    <tr>\n",
              "      <th>574</th>\n",
              "      <td>False</td>\n",
              "      <td>False</td>\n",
              "      <td>False</td>\n",
              "      <td>False</td>\n",
              "      <td>False</td>\n",
              "      <td>False</td>\n",
              "      <td>False</td>\n",
              "    </tr>\n",
              "    <tr>\n",
              "      <th>575</th>\n",
              "      <td>False</td>\n",
              "      <td>False</td>\n",
              "      <td>False</td>\n",
              "      <td>False</td>\n",
              "      <td>False</td>\n",
              "      <td>False</td>\n",
              "      <td>False</td>\n",
              "    </tr>\n",
              "    <tr>\n",
              "      <th>576</th>\n",
              "      <td>False</td>\n",
              "      <td>False</td>\n",
              "      <td>False</td>\n",
              "      <td>False</td>\n",
              "      <td>False</td>\n",
              "      <td>False</td>\n",
              "      <td>False</td>\n",
              "    </tr>\n",
              "    <tr>\n",
              "      <th>577</th>\n",
              "      <td>False</td>\n",
              "      <td>False</td>\n",
              "      <td>False</td>\n",
              "      <td>False</td>\n",
              "      <td>False</td>\n",
              "      <td>False</td>\n",
              "      <td>False</td>\n",
              "    </tr>\n",
              "    <tr>\n",
              "      <th>578</th>\n",
              "      <td>False</td>\n",
              "      <td>False</td>\n",
              "      <td>False</td>\n",
              "      <td>False</td>\n",
              "      <td>False</td>\n",
              "      <td>False</td>\n",
              "      <td>False</td>\n",
              "    </tr>\n",
              "  </tbody>\n",
              "</table>\n",
              "<p>579 rows × 7 columns</p>\n",
              "</div>"
            ],
            "text/plain": [
              "      CERT    FIN  CHARTER  ESTIMATED LOSS  ASSETS  DEPOSITS  RESOLUTION\n",
              "0    False  False    False            True   False     False       False\n",
              "1    False  False    False            True   False     False       False\n",
              "2    False  False    False           False   False     False       False\n",
              "3    False  False    False           False   False     False       False\n",
              "4    False  False    False           False   False     False       False\n",
              "..     ...    ...      ...             ...     ...       ...         ...\n",
              "574  False  False    False           False   False     False       False\n",
              "575  False  False    False           False   False     False       False\n",
              "576  False  False    False           False   False     False       False\n",
              "577  False  False    False           False   False     False       False\n",
              "578  False  False    False           False   False     False       False\n",
              "\n",
              "[579 rows x 7 columns]"
            ]
          },
          "metadata": {
            "tags": []
          },
          "execution_count": 27
        }
      ]
    },
    {
      "cell_type": "markdown",
      "metadata": {
        "id": "N_IfJYcjVFOl"
      },
      "source": [
        "<br>"
      ]
    },
    {
      "cell_type": "code",
      "metadata": {
        "id": "Ez-RMMlLW7L0",
        "colab": {
          "base_uri": "https://localhost:8080/"
        },
        "outputId": "e75019d2-da47-4f19-a940-30bac364a774"
      },
      "source": [
        "# Find the total number of null values by column\n",
        "bank_detail.isnull().sum()"
      ],
      "execution_count": null,
      "outputs": [
        {
          "output_type": "execute_result",
          "data": {
            "text/plain": [
              "CERT               0\n",
              "FIN               13\n",
              "CHARTER            0\n",
              "ESTIMATED LOSS    16\n",
              "ASSETS             0\n",
              "DEPOSITS           0\n",
              "RESOLUTION         0\n",
              "dtype: int64"
            ]
          },
          "metadata": {
            "tags": []
          },
          "execution_count": 5
        }
      ]
    },
    {
      "cell_type": "markdown",
      "metadata": {
        "id": "JJZokVnUWddP"
      },
      "source": [
        "<br>"
      ]
    },
    {
      "cell_type": "markdown",
      "metadata": {
        "id": "d6wS7Ne0jcKl"
      },
      "source": [
        "<br><br>\n",
        "**QUICK CHALLENGE #1:**\n",
        "\n",
        "**Task: Write code which shows the number of missing values in each column of the `bx_users` dataframe**\n"
      ]
    },
    {
      "cell_type": "code",
      "metadata": {
        "id": "rILraZlkjWe1",
        "colab": {
          "base_uri": "https://localhost:8080/",
          "height": 419
        },
        "outputId": "5712d23e-1934-420c-c575-eacae7e7cc1c"
      },
      "source": [
        "# Your code for quick challenge #1 here\n",
        "bx_users.isnull()"
      ],
      "execution_count": null,
      "outputs": [
        {
          "output_type": "execute_result",
          "data": {
            "text/html": [
              "<div>\n",
              "<style scoped>\n",
              "    .dataframe tbody tr th:only-of-type {\n",
              "        vertical-align: middle;\n",
              "    }\n",
              "\n",
              "    .dataframe tbody tr th {\n",
              "        vertical-align: top;\n",
              "    }\n",
              "\n",
              "    .dataframe thead th {\n",
              "        text-align: right;\n",
              "    }\n",
              "</style>\n",
              "<table border=\"1\" class=\"dataframe\">\n",
              "  <thead>\n",
              "    <tr style=\"text-align: right;\">\n",
              "      <th></th>\n",
              "      <th>user_id</th>\n",
              "      <th>location</th>\n",
              "      <th>age</th>\n",
              "    </tr>\n",
              "  </thead>\n",
              "  <tbody>\n",
              "    <tr>\n",
              "      <th>0</th>\n",
              "      <td>False</td>\n",
              "      <td>False</td>\n",
              "      <td>True</td>\n",
              "    </tr>\n",
              "    <tr>\n",
              "      <th>1</th>\n",
              "      <td>False</td>\n",
              "      <td>False</td>\n",
              "      <td>False</td>\n",
              "    </tr>\n",
              "    <tr>\n",
              "      <th>2</th>\n",
              "      <td>False</td>\n",
              "      <td>False</td>\n",
              "      <td>True</td>\n",
              "    </tr>\n",
              "    <tr>\n",
              "      <th>3</th>\n",
              "      <td>False</td>\n",
              "      <td>False</td>\n",
              "      <td>False</td>\n",
              "    </tr>\n",
              "    <tr>\n",
              "      <th>4</th>\n",
              "      <td>False</td>\n",
              "      <td>False</td>\n",
              "      <td>True</td>\n",
              "    </tr>\n",
              "    <tr>\n",
              "      <th>...</th>\n",
              "      <td>...</td>\n",
              "      <td>...</td>\n",
              "      <td>...</td>\n",
              "    </tr>\n",
              "    <tr>\n",
              "      <th>278853</th>\n",
              "      <td>False</td>\n",
              "      <td>False</td>\n",
              "      <td>True</td>\n",
              "    </tr>\n",
              "    <tr>\n",
              "      <th>278854</th>\n",
              "      <td>False</td>\n",
              "      <td>False</td>\n",
              "      <td>False</td>\n",
              "    </tr>\n",
              "    <tr>\n",
              "      <th>278855</th>\n",
              "      <td>False</td>\n",
              "      <td>False</td>\n",
              "      <td>True</td>\n",
              "    </tr>\n",
              "    <tr>\n",
              "      <th>278856</th>\n",
              "      <td>False</td>\n",
              "      <td>False</td>\n",
              "      <td>True</td>\n",
              "    </tr>\n",
              "    <tr>\n",
              "      <th>278857</th>\n",
              "      <td>False</td>\n",
              "      <td>False</td>\n",
              "      <td>True</td>\n",
              "    </tr>\n",
              "  </tbody>\n",
              "</table>\n",
              "<p>278858 rows × 3 columns</p>\n",
              "</div>"
            ],
            "text/plain": [
              "        user_id  location    age\n",
              "0         False     False   True\n",
              "1         False     False  False\n",
              "2         False     False   True\n",
              "3         False     False  False\n",
              "4         False     False   True\n",
              "...         ...       ...    ...\n",
              "278853    False     False   True\n",
              "278854    False     False  False\n",
              "278855    False     False   True\n",
              "278856    False     False   True\n",
              "278857    False     False   True\n",
              "\n",
              "[278858 rows x 3 columns]"
            ]
          },
          "metadata": {
            "tags": []
          },
          "execution_count": 6
        }
      ]
    },
    {
      "cell_type": "code",
      "metadata": {
        "colab": {
          "base_uri": "https://localhost:8080/"
        },
        "id": "SfnURMusQGxP",
        "outputId": "3e2964b3-92c4-43a2-c6f1-1be9fde692cf"
      },
      "source": [
        "bx_users.isnull().sum()"
      ],
      "execution_count": null,
      "outputs": [
        {
          "output_type": "execute_result",
          "data": {
            "text/plain": [
              "user_id          0\n",
              "location         0\n",
              "age         110762\n",
              "dtype: int64"
            ]
          },
          "metadata": {
            "tags": []
          },
          "execution_count": 7
        }
      ]
    },
    {
      "cell_type": "markdown",
      "metadata": {
        "id": "3Tf9_aomtfce"
      },
      "source": [
        "<br><br>\n",
        "### Replace missing data\n",
        "---\n"
      ]
    },
    {
      "cell_type": "markdown",
      "metadata": {
        "id": "Veuf-Ffptoss"
      },
      "source": [
        "*1. Replace with a string or number*"
      ]
    },
    {
      "cell_type": "code",
      "metadata": {
        "id": "Q0JxZllt6wdy",
        "colab": {
          "base_uri": "https://localhost:8080/"
        },
        "outputId": "cf021696-3409-411f-f0ab-8285fabffa59"
      },
      "source": [
        "# Replace missing values in \"ESTIMATED LOSS\" with string \"Missing\"\n",
        "bank_detail['ESTIMATED LOSS'].fillna('Missing')"
      ],
      "execution_count": null,
      "outputs": [
        {
          "output_type": "execute_result",
          "data": {
            "text/plain": [
              "0      Missing\n",
              "1      Missing\n",
              "2         2491\n",
              "3         4547\n",
              "4         2188\n",
              "        ...   \n",
              "574      14592\n",
              "575       1363\n",
              "576        617\n",
              "577       1322\n",
              "578      11574\n",
              "Name: ESTIMATED LOSS, Length: 579, dtype: object"
            ]
          },
          "metadata": {
            "tags": []
          },
          "execution_count": 8
        }
      ]
    },
    {
      "cell_type": "markdown",
      "metadata": {
        "id": "VrTiAthFVJsv"
      },
      "source": [
        "<br>"
      ]
    },
    {
      "cell_type": "code",
      "metadata": {
        "id": "Pj2Z-D_St2pA",
        "colab": {
          "base_uri": "https://localhost:8080/"
        },
        "outputId": "319fab11-3406-4c32-eea3-d4d9fdc5a230"
      },
      "source": [
        "# Replace missing values in \"ESTIMATED LOSS\" with zero\n",
        "bank_detail['ESTIMATED LOSS'].fillna(0)"
      ],
      "execution_count": null,
      "outputs": [
        {
          "output_type": "execute_result",
          "data": {
            "text/plain": [
              "0          0.0\n",
              "1          0.0\n",
              "2       2491.0\n",
              "3       4547.0\n",
              "4       2188.0\n",
              "        ...   \n",
              "574    14592.0\n",
              "575     1363.0\n",
              "576      617.0\n",
              "577     1322.0\n",
              "578    11574.0\n",
              "Name: ESTIMATED LOSS, Length: 579, dtype: float64"
            ]
          },
          "metadata": {
            "tags": []
          },
          "execution_count": 9
        }
      ]
    },
    {
      "cell_type": "markdown",
      "metadata": {
        "id": "HLgXm4GHTEn7"
      },
      "source": [
        "<br>"
      ]
    },
    {
      "cell_type": "markdown",
      "metadata": {
        "id": "ktRAEQcVuEv5"
      },
      "source": [
        "*2. Replace with mean or median of the column*"
      ]
    },
    {
      "cell_type": "code",
      "metadata": {
        "id": "CSAhs4qn6zcZ",
        "colab": {
          "base_uri": "https://localhost:8080/"
        },
        "outputId": "2d07af66-ec4d-44f5-b933-f388b661c9aa"
      },
      "source": [
        "# Replace missing values in \"ESTIMATED LOSS\" with the .mean()\n",
        "bank_detail['ESTIMATED LOSS'].fillna(bank_detail['ESTIMATED LOSS'].mean())"
      ],
      "execution_count": null,
      "outputs": [
        {
          "output_type": "execute_result",
          "data": {
            "text/plain": [
              "0      130299.838366\n",
              "1      130299.838366\n",
              "2        2491.000000\n",
              "3        4547.000000\n",
              "4        2188.000000\n",
              "           ...      \n",
              "574     14592.000000\n",
              "575      1363.000000\n",
              "576       617.000000\n",
              "577      1322.000000\n",
              "578     11574.000000\n",
              "Name: ESTIMATED LOSS, Length: 579, dtype: float64"
            ]
          },
          "metadata": {
            "tags": []
          },
          "execution_count": 28
        }
      ]
    },
    {
      "cell_type": "markdown",
      "metadata": {
        "id": "EuvOxLR-TJXQ"
      },
      "source": [
        "<br>"
      ]
    },
    {
      "cell_type": "markdown",
      "metadata": {
        "id": "K7MfhFmdufg-"
      },
      "source": [
        "*3. Fill using previous or next value*"
      ]
    },
    {
      "cell_type": "code",
      "metadata": {
        "id": "1RKf8Odwsdy_",
        "colab": {
          "base_uri": "https://localhost:8080/"
        },
        "outputId": "99c63a32-e87c-4feb-e6fd-0734892e3de1"
      },
      "source": [
        "# Use backfill to replace missing values\n",
        "bank_detail['ESTIMATED LOSS'].bfill()"
      ],
      "execution_count": null,
      "outputs": [
        {
          "output_type": "execute_result",
          "data": {
            "text/plain": [
              "0       2491.0\n",
              "1       2491.0\n",
              "2       2491.0\n",
              "3       4547.0\n",
              "4       2188.0\n",
              "        ...   \n",
              "574    14592.0\n",
              "575     1363.0\n",
              "576      617.0\n",
              "577     1322.0\n",
              "578    11574.0\n",
              "Name: ESTIMATED LOSS, Length: 579, dtype: float64"
            ]
          },
          "metadata": {
            "tags": []
          },
          "execution_count": 12
        }
      ]
    },
    {
      "cell_type": "markdown",
      "metadata": {
        "id": "ftRLZdjUVMwV"
      },
      "source": [
        "<br>"
      ]
    },
    {
      "cell_type": "code",
      "metadata": {
        "id": "egPBu_sDsrKg",
        "colab": {
          "base_uri": "https://localhost:8080/"
        },
        "outputId": "c9a920c7-7ca1-4f92-8e4c-9ced63cd4863"
      },
      "source": [
        "# Use forward fill\n",
        "bank_detail['ESTIMATED LOSS'].ffill()"
      ],
      "execution_count": null,
      "outputs": [
        {
          "output_type": "execute_result",
          "data": {
            "text/plain": [
              "0          NaN\n",
              "1          NaN\n",
              "2       2491.0\n",
              "3       4547.0\n",
              "4       2188.0\n",
              "        ...   \n",
              "574    14592.0\n",
              "575     1363.0\n",
              "576      617.0\n",
              "577     1322.0\n",
              "578    11574.0\n",
              "Name: ESTIMATED LOSS, Length: 579, dtype: float64"
            ]
          },
          "metadata": {
            "tags": []
          },
          "execution_count": 13
        }
      ]
    },
    {
      "cell_type": "markdown",
      "metadata": {
        "id": "IxQiA1SQuqjB"
      },
      "source": [
        "<br>\n",
        "Save the replaced values into the original column "
      ]
    },
    {
      "cell_type": "code",
      "metadata": {
        "id": "zisL8R0CXS22"
      },
      "source": [
        "# Save the replacements for the null values: fill with zero\n",
        "bank_detail['ESTIMATED LOSS'] = bank_detail['ESTIMATED LOSS'].fillna(0)"
      ],
      "execution_count": null,
      "outputs": []
    },
    {
      "cell_type": "markdown",
      "metadata": {
        "id": "l95PdKRxVUbS"
      },
      "source": [
        "<br>"
      ]
    },
    {
      "cell_type": "code",
      "metadata": {
        "id": "QuSnMyO_Z_jO",
        "colab": {
          "base_uri": "https://localhost:8080/"
        },
        "outputId": "9c558a71-cb0c-480b-df69-125dc42d32fd"
      },
      "source": [
        "# Check bank_detail for null values again\n",
        "bank_detail.isnull().sum()"
      ],
      "execution_count": null,
      "outputs": [
        {
          "output_type": "execute_result",
          "data": {
            "text/plain": [
              "CERT               0\n",
              "FIN               13\n",
              "CHARTER            0\n",
              "ESTIMATED LOSS     0\n",
              "ASSETS             0\n",
              "DEPOSITS           0\n",
              "RESOLUTION         0\n",
              "dtype: int64"
            ]
          },
          "metadata": {
            "tags": []
          },
          "execution_count": 30
        }
      ]
    },
    {
      "cell_type": "markdown",
      "metadata": {
        "id": "cYewvYdPu7oG"
      },
      "source": [
        "<br><br> \n",
        "### Removing missing values\n",
        "---\n",
        "\n"
      ]
    },
    {
      "cell_type": "code",
      "metadata": {
        "id": "mtrDDT6Bapzo"
      },
      "source": [
        "# Remove the rows which are not bank failures\n",
        "bank_detail = bank_detail.dropna()"
      ],
      "execution_count": null,
      "outputs": []
    },
    {
      "cell_type": "markdown",
      "metadata": {
        "id": "gT_vO416VZvZ"
      },
      "source": [
        "<br>"
      ]
    },
    {
      "cell_type": "code",
      "metadata": {
        "id": "lKAfnFgSa3Bc",
        "colab": {
          "base_uri": "https://localhost:8080/"
        },
        "outputId": "5f23aa50-2dbf-499d-95d6-8a1773dc4490"
      },
      "source": [
        "# Check bank_detail for null values again\n",
        "bank_detail.isnull().sum()"
      ],
      "execution_count": null,
      "outputs": [
        {
          "output_type": "execute_result",
          "data": {
            "text/plain": [
              "CERT              0\n",
              "FIN               0\n",
              "CHARTER           0\n",
              "ESTIMATED LOSS    0\n",
              "ASSETS            0\n",
              "DEPOSITS          0\n",
              "RESOLUTION        0\n",
              "dtype: int64"
            ]
          },
          "metadata": {
            "tags": []
          },
          "execution_count": 32
        }
      ]
    },
    {
      "cell_type": "markdown",
      "metadata": {
        "id": "OTlujB21pR9Y"
      },
      "source": [
        "<br><br>\n",
        "**QUICK CHALLENGE #2:**\n",
        "\n",
        "**Task: Write code which replaces the null age values with *median* age in `bx_users` dataframe**\n"
      ]
    },
    {
      "cell_type": "code",
      "metadata": {
        "id": "yQlKJroLpcMy",
        "colab": {
          "base_uri": "https://localhost:8080/"
        },
        "outputId": "3739e864-75d6-40af-d4cc-a88f3ebe922f"
      },
      "source": [
        "# Your code for quick challenge #2 here:\n",
        "bx_users['age'].fillna(bx_users['age'].median())"
      ],
      "execution_count": null,
      "outputs": [
        {
          "output_type": "execute_result",
          "data": {
            "text/plain": [
              "0         32.0\n",
              "1         18.0\n",
              "2         32.0\n",
              "3         17.0\n",
              "4         32.0\n",
              "          ... \n",
              "278853    32.0\n",
              "278854    50.0\n",
              "278855    32.0\n",
              "278856    32.0\n",
              "278857    32.0\n",
              "Name: age, Length: 278858, dtype: float64"
            ]
          },
          "metadata": {
            "tags": []
          },
          "execution_count": 39
        }
      ]
    }
  ]
}